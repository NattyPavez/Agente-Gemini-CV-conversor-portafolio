{
  "nbformat": 4,
  "nbformat_minor": 0,
  "metadata": {
    "colab": {
      "provenance": [],
      "authorship_tag": "ABX9TyNFRFkDvkluRyRIozJnOF7c",
      "include_colab_link": true
    },
    "kernelspec": {
      "name": "python3",
      "display_name": "Python 3"
    },
    "language_info": {
      "name": "python"
    }
  },
  "cells": [
    {
      "cell_type": "markdown",
      "metadata": {
        "id": "view-in-github",
        "colab_type": "text"
      },
      "source": [
        "<a href=\"https://colab.research.google.com/github/NattyPavez/Agente-Gemini-CV-conversor-portafolio/blob/main/Proyecto_prueba.ipynb\" target=\"_parent\"><img src=\"https://colab.research.google.com/assets/colab-badge.svg\" alt=\"Open In Colab\"/></a>"
      ]
    },
    {
      "cell_type": "markdown",
      "source": [
        "Proyecto paralelo a curso Inmersión AI de Alura con Google Gemini"
      ],
      "metadata": {
        "id": "mpMhV3XLWKjB"
      }
    },
    {
      "cell_type": "markdown",
      "source": [
        "Primera parte"
      ],
      "metadata": {
        "id": "PdDfxFtoKmbG"
      }
    },
    {
      "cell_type": "markdown",
      "source": [
        "Librerías utilizadas"
      ],
      "metadata": {
        "id": "gYdSBaKgVHzG"
      }
    },
    {
      "cell_type": "code",
      "execution_count": 1,
      "metadata": {
        "id": "CL2PvIdLFnY2",
        "colab": {
          "base_uri": "https://localhost:8080/"
        },
        "outputId": "db3c5f68-6b0c-42ca-b804-4770252fd4f4"
      },
      "outputs": [
        {
          "output_type": "stream",
          "name": "stdout",
          "text": [
            "\u001b[?25l   \u001b[90m━━━━━━━━━━━━━━━━━━━━━━━━━━━━━━━━━━━━━━━━\u001b[0m \u001b[32m0.0/42.0 kB\u001b[0m \u001b[31m?\u001b[0m eta \u001b[36m-:--:--\u001b[0m\r\u001b[2K   \u001b[90m━━━━━━━━━━━━━━━━━━━━━━━━━━━━━━━━━━━━━━━━\u001b[0m \u001b[32m42.0/42.0 kB\u001b[0m \u001b[31m2.0 MB/s\u001b[0m eta \u001b[36m0:00:00\u001b[0m\n",
            "\u001b[?25h"
          ]
        }
      ],
      "source": [
        "!pip install -q langchain-google-genai google-generativeai"
      ]
    },
    {
      "cell_type": "code",
      "source": [
        "!pip install email-validator"
      ],
      "metadata": {
        "colab": {
          "base_uri": "https://localhost:8080/"
        },
        "id": "fSbjF3aDh7at",
        "outputId": "b88a6a28-ea05-4b18-9259-c3fe30a35719"
      },
      "execution_count": 2,
      "outputs": [
        {
          "output_type": "stream",
          "name": "stdout",
          "text": [
            "Collecting email-validator\n",
            "  Downloading email_validator-2.3.0-py3-none-any.whl.metadata (26 kB)\n",
            "Collecting dnspython>=2.0.0 (from email-validator)\n",
            "  Downloading dnspython-2.8.0-py3-none-any.whl.metadata (5.7 kB)\n",
            "Requirement already satisfied: idna>=2.0.0 in /usr/local/lib/python3.12/dist-packages (from email-validator) (3.10)\n",
            "Downloading email_validator-2.3.0-py3-none-any.whl (35 kB)\n",
            "Downloading dnspython-2.8.0-py3-none-any.whl (331 kB)\n",
            "\u001b[2K   \u001b[90m━━━━━━━━━━━━━━━━━━━━━━━━━━━━━━━━━━━━━━━━\u001b[0m \u001b[32m331.1/331.1 kB\u001b[0m \u001b[31m8.9 MB/s\u001b[0m eta \u001b[36m0:00:00\u001b[0m\n",
            "\u001b[?25hInstalling collected packages: dnspython, email-validator\n",
            "Successfully installed dnspython-2.8.0 email-validator-2.3.0\n"
          ]
        }
      ]
    },
    {
      "cell_type": "code",
      "source": [
        "#permite leer PDF\n",
        "!pip install pymupdf"
      ],
      "metadata": {
        "colab": {
          "base_uri": "https://localhost:8080/"
        },
        "id": "CwxdaGzXuy9Q",
        "outputId": "4dbc4ad2-2032-4fae-efca-286b51b07f2e"
      },
      "execution_count": 3,
      "outputs": [
        {
          "output_type": "stream",
          "name": "stdout",
          "text": [
            "Collecting pymupdf\n",
            "  Downloading pymupdf-1.26.4-cp39-abi3-manylinux_2_28_x86_64.whl.metadata (3.4 kB)\n",
            "Downloading pymupdf-1.26.4-cp39-abi3-manylinux_2_28_x86_64.whl (24.1 MB)\n",
            "\u001b[2K   \u001b[90m━━━━━━━━━━━━━━━━━━━━━━━━━━━━━━━━━━━━━━━━\u001b[0m \u001b[32m24.1/24.1 MB\u001b[0m \u001b[31m42.8 MB/s\u001b[0m eta \u001b[36m0:00:00\u001b[0m\n",
            "\u001b[?25hInstalling collected packages: pymupdf\n",
            "Successfully installed pymupdf-1.26.4\n"
          ]
        }
      ]
    },
    {
      "cell_type": "code",
      "source": [
        "# permite crear una interfaz simple con muy pocas líneas de código\n",
        "!pip install -q gradio"
      ],
      "metadata": {
        "id": "6CO512mGRw8y"
      },
      "execution_count": 4,
      "outputs": []
    },
    {
      "cell_type": "markdown",
      "source": [
        "Importación api key de AIStudio"
      ],
      "metadata": {
        "id": "PKRCJ7ouWFkI"
      }
    },
    {
      "cell_type": "code",
      "source": [
        "from google.colab import userdata\n",
        "from langchain_google_genai import ChatGoogleGenerativeAI\n",
        "\n",
        "GOOGLE_API_KEY = userdata.get('personal_gemini_api_key')"
      ],
      "metadata": {
        "id": "24R3KhjHKEYR"
      },
      "execution_count": 5,
      "outputs": []
    },
    {
      "cell_type": "code",
      "source": [
        "llm = ChatGoogleGenerativeAI(\n",
        "    model=\"gemini-2.5-flash\",\n",
        "    temperature=0,\n",
        "    api_key=GOOGLE_API_KEY\n",
        ")"
      ],
      "metadata": {
        "id": "i79uhqw4V97B"
      },
      "execution_count": 6,
      "outputs": []
    },
    {
      "cell_type": "code",
      "source": [
        "# Importa la clase de incrustaciones\n",
        "from langchain_google_genai import GoogleGenerativeAIEmbeddings\n",
        "from google.colab import userdata\n",
        "\n",
        "#  modelo de incrustaciones para la clasificación de perfiles\n",
        "embeddings_model = GoogleGenerativeAIEmbeddings(\n",
        "    model=\"models/embedding-001\",\n",
        "    google_api_key=GOOGLE_API_KEY\n",
        "    )"
      ],
      "metadata": {
        "id": "2g3ITlXQl5i7"
      },
      "execution_count": 7,
      "outputs": []
    },
    {
      "cell_type": "markdown",
      "source": [
        "### Asistente de recuperacion de datos de Curriculum Vitae para generar portafolio profesional"
      ],
      "metadata": {
        "id": "GmrIA6CxUiTw"
      }
    },
    {
      "cell_type": "code",
      "source": [
        "from pydantic import BaseModel, Field, EmailStr\n",
        "from typing import List, Optional\n",
        "\n",
        "class Habilidades(BaseModel):\n",
        "    tecnicas: List[str] = Field(default_factory=list)\n",
        "    blandas: List[str] = Field(default_factory=list)\n",
        "\n",
        "class ExperienciaLaboral(BaseModel):\n",
        "    empresa_o_proyecto: str\n",
        "    cargo: str\n",
        "    periodo: str\n",
        "    descripcion: str\n",
        "\n",
        "class Educacion(BaseModel):\n",
        "    institucion: str\n",
        "    titulo: str\n",
        "    periodo: str\n",
        "\n",
        "class Perfil(BaseModel):\n",
        "    nombre: str\n",
        "    email: EmailStr\n",
        "    telefono: Optional[str] = None\n",
        "    ciudad_pais: str\n",
        "\n",
        "class CurriculumVitae(BaseModel):\n",
        "    perfil: Perfil\n",
        "    resumen: str\n",
        "    experiencia_laboral: List[ExperienciaLaboral] = Field(default_factory=list)\n",
        "    educacion: List[Educacion] = Field(default_factory=list)\n",
        "    habilidades: Habilidades\n",
        "    puntos_clave_sugeridos: List[str] = Field(default_factory=list)\n",
        "\n"
      ],
      "metadata": {
        "id": "RhIS6UQuLPKW"
      },
      "execution_count": 8,
      "outputs": []
    },
    {
      "cell_type": "code",
      "source": [
        "PROMPT_BASE_EXTRACCION = \"\"\"Eres un asistente experto en análisis de currículums. Tu tarea es extraer la información clave de un currículum vitae y estructurarla en un objeto JSON.\n",
        "\n",
        "La información que debes extraer es:\n",
        "1. **Información personal**: Nombre completo, email, teléfono, ciudad y país.\n",
        "2. **Resumen profesional**: Un breve resumen que destaque las principales habilidades y experiencia.\n",
        "3. **Experiencia laboral**: Para cada puesto, extrae el nombre de la empresa, cargo, período (ej: \"2018 - 2022\") y una descripción breve de las responsabilidades y logros clave.\n",
        "4. **Educación**: Para cada título, extrae el nombre de la institución, el título obtenido y el período (ej: \"2015 - 2018\").\n",
        "5. **Habilidades**: Lista de habilidades técnicas (ej: \"Python\", \"SQL\", \"Git\") y habilidades blandas (ej: \"Liderazgo\", \"Comunicación\").\n",
        "\n",
        "Después de extraer la información, evalúa la profesión del currículum y sugiere qué información adicional sería valiosa para destacar en un portafolio web. Estas sugerencias deben basarse en estándares de la industria para esa profesión. Devuelve esta sugerencia en un campo llamado \"puntos_clave_sugeridos\".\n",
        "\n",
        "Si el perfil detectado es '{perfil_detectado}', asegúrate de adaptar la extracción de la siguiente manera:\n",
        "{instruccion_especifica}\n",
        "\"\"\""
      ],
      "metadata": {
        "id": "QynU-bN2aJsz"
      },
      "execution_count": 9,
      "outputs": []
    },
    {
      "cell_type": "markdown",
      "source": [
        "Clasificación de perfiles utilizando Emmbeddins"
      ],
      "metadata": {
        "id": "945e6QTotow0"
      }
    },
    {
      "cell_type": "code",
      "source": [
        "from sklearn.metrics.pairwise import cosine_similarity\n",
        "import numpy as np\n",
        "from typing import Dict\n",
        "from langchain_core.messages import SystemMessage, HumanMessage\n",
        "\n",
        "# Perfiles de referencia\n",
        "perfiles_referencia = {\n",
        "    \"Perfil Administrativo / Asistente\": \"Profesional con experiencia en gestión de agendas, coordinación de equipos y atención al cliente. Destacada capacidad organizativa, manejo de herramientas ofimáticas (Excel, Word, Power Point) y optimización de procesos administrativos.\",\n",
        "    \"Perfil Comercial / Ventas\": \"Ejecutivo de ventas con trayectoria en el cumplimiento de metas comerciales, negociación, cierre de tratos y fidelización de clientes. Orientado a resultados y con fuerte habilidad para generar nuevas oportunidades de negocio, prospección y gestión de cartera.\",\n",
        "    \"Perfil Tecnológico / TI\": \"Desarrollador de software con experiencia en lenguajes de programación como Java, Python, JavaScript. Manejo de frameworks como Spring Boot, Django, o React. Experto en bases de datos SQL y NoSQL, desarrollo de APIs y metodologías ágiles (Scrum, Kanban).\",\n",
        "    \"Perfil Marketing / Comunicación\": \"Especialista en marketing digital con dominio de campañas en redes sociales (Facebook Ads, Google Ads), SEO, SEM y analítica web. Capacidad para crear estrategias de contenido que aumentan la visibilidad y el engagement de marcas, email marketing y relaciones públicas.\",\n",
        "    \"Perfil Financiero / Contabilidad\": \"Contador auditor con sólida experiencia en análisis financiero, control de gastos, auditoría, planificación tributaria y cumplimiento normativo. Fuerte orientación a la precisión, la eficiencia en procesos contables y la elaboración de reportes financieros.\",\n",
        "    \"Perfil de Salud\": \"Profesional de la salud con experiencia en atención clínica, diagnóstico, tratamiento y enfoque en la calidad del servicio al paciente. Capacitado en protocolos de emergencia, prevención de enfermedades, promoción de la salud y educación a la comunidad.\",\n",
        "    \"Perfil de Recursos Humanos\": \"Especialista en gestión de talento, con experiencia en reclutamiento y selección, capacitación, evaluación de desempeño y clima organizacional. Enfocado en potenciar equipos de alto desempeño y en la aplicación de políticas de bienestar laboral.\",\n",
        "    \"Perfil de Educación / Docencia\": \"Docente con experiencia en la enseñanza de asignaturas como [ej: matemáticas, historia] en [ej: nivel escolar o universitario]. Capaz de diseñar planes pedagógicos efectivos, aplicar metodologías innovadoras y adaptarse a distintos estilos de aprendizaje. Enfocado en la motivación y el desarrollo integral de los estudiantes.\",\n",
        "    \"Perfil de Logística / Operaciones\": \"Profesional en logística con trayectoria en gestión de inventarios, control de bodegas, cadena de suministro y optimización de procesos de distribución. Orientado a la eficiencia operativa, reducción de costos, cumplimiento de tiempos de entrega y manejo de sistemas ERP.\",\n",
        "    \"Perfil de Atención al Cliente / Servicios\": \"Especialista en atención al cliente con experiencia en resolución de problemas, manejo de reclamos y generación de experiencias positivas. Destacado por la empatía, comunicación efectiva, orientación a la satisfacción del usuario y manejo de sistemas CRM.\"\n",
        "}\n",
        "\n",
        "# incrustaciones una sola vez al inicio del programa\n",
        "vectores_referencia = {\n",
        "    perfil: embeddings_model.embed_query(texto)\n",
        "    for perfil, texto in perfiles_referencia.items()\n",
        "}\n",
        "\n",
        "def clasificar_perfil(texto_cv: str) -> str:\n",
        "    \"\"\"Clasifica el perfil de un CV comparando su incrustación con perfiles de referencia.\"\"\"\n",
        "    if not texto_cv:\n",
        "        return \"Perfil no definido\"\n",
        "    try:\n",
        "        vector_cv = embeddings_model.embed_query(texto_cv)\n",
        "        mejor_coincidencia = \"No se pudo clasificar\"\n",
        "        mayor_similitud = -1\n",
        "        for perfil, vector_ref in vectores_referencia.items():\n",
        "            similitud = cosine_similarity(np.array(vector_cv).reshape(1, -1), np.array(vector_ref).reshape(1, -1))[0][0]\n",
        "            if similitud > mayor_similitud:\n",
        "                mayor_similitud = similitud\n",
        "                mejor_coincidencia = perfil\n",
        "        print(f\"El sistema ha clasificado este perfil como: {mejor_coincidencia} (Similitud: {mayor_similitud:.2f})\")\n",
        "        return mejor_coincidencia\n",
        "    except Exception as e:\n",
        "        print(f\"Ocurrió un error en la clasificación: {e}\")\n",
        "        return \"Error en la clasificación\"\n",
        "\n",
        "llm_cv_chain = llm.with_structured_output(CurriculumVitae)\n",
        "\n",
        "def extraer_y_clasificar_cv(texto_cv: str):\n",
        "    \"\"\"\n",
        "    Función principal que clasifica el CV y extrae los datos con un prompt dinámico.\n",
        "    \"\"\"\n",
        "    perfil_clasificado = clasificar_perfil(texto_cv)\n",
        "    print(f\"Perfil detectado: {perfil_clasificado}\")\n",
        "\n",
        "    if \"Tecnológico\" in perfil_clasificado or \"freelance\" in texto_cv.lower():\n",
        "        instruccion = \"Para la experiencia laboral, si se menciona un proyecto o cliente, usa el nombre del proyecto en lugar del nombre de la empresa. En las habilidades, prioriza los lenguajes de programación, frameworks y herramientas tecnológicas.\"\n",
        "    else:\n",
        "        instruccion = \"Sigue el formato estándar de experiencia laboral, usando el nombre de la empresa en cada puesto.\"\n",
        "\n",
        "    prompt_dinamico = PROMPT_BASE_EXTRACCION.format(perfil_detectado=perfil_clasificado, instruccion_especifica=instruccion)\n",
        "\n",
        "    salida = llm_cv_chain.invoke([\n",
        "        SystemMessage(content=prompt_dinamico),\n",
        "        HumanMessage(content=texto_cv)\n",
        "    ])\n",
        "\n",
        "    return salida"
      ],
      "metadata": {
        "collapsed": true,
        "id": "L1458SVztoLE"
      },
      "execution_count": 10,
      "outputs": []
    },
    {
      "cell_type": "markdown",
      "source": [
        "Prueba con CV cargado en los archivos de *Colab*"
      ],
      "metadata": {
        "id": "i4Yy4ezcSeDI"
      }
    },
    {
      "cell_type": "code",
      "source": [
        "import fitz\n",
        "\n",
        "def leer_pdf(ruta_del_archivo):\n",
        "    \"\"\"\n",
        "    Lee un archivo PDF y extrae todo su texto en una sola cadena.\n",
        "    \"\"\"\n",
        "    try:\n",
        "        documento = fitz.open(ruta_del_archivo)\n",
        "        texto_completo = \"\"\n",
        "        for pagina in documento:\n",
        "            texto_completo += pagina.get_text()\n",
        "        return texto_completo\n",
        "    except FileNotFoundError:\n",
        "        print(f\"Error: No se encontró el archivo en la ruta '{ruta_del_archivo}'.\")\n",
        "        return \"\"\n",
        "\n",
        "ruta_del_pdf = \"CV_Sofia_Allende_Ramirez.pdf\" #  nombre de tu archivo\n",
        "\n",
        "# Extrae el texto del PDF\n",
        "texto_del_cv = leer_pdf(ruta_del_pdf)\n",
        "\n",
        "if texto_del_cv:\n",
        "    try:\n",
        "        # Usa tu función para procesar el texto\n",
        "        datos_extraidos = extraer_y_clasificar_cv(texto_del_cv)\n",
        "\n",
        "        # Imprime el resultado para verificar que funciona\n",
        "        print(\"\\nExtracción de datos exitosa:\")\n",
        "        print(datos_extraidos.model_dump_json(indent=2))\n",
        "    except Exception as e:\n",
        "        print(f\"Ocurrió un error inesperado al procesar el CV: {e}\")"
      ],
      "metadata": {
        "colab": {
          "base_uri": "https://localhost:8080/"
        },
        "collapsed": true,
        "id": "mGXmpyapw1Qp",
        "outputId": "ea314531-aa8f-48d1-861b-501c819981c3"
      },
      "execution_count": 11,
      "outputs": [
        {
          "output_type": "stream",
          "name": "stdout",
          "text": [
            "El sistema ha clasificado este perfil como: Perfil de Salud (Similitud: 0.72)\n",
            "Perfil detectado: Perfil de Salud\n",
            "\n",
            "Extracción de datos exitosa:\n",
            "{\n",
            "  \"perfil\": {\n",
            "    \"nombre\": \"Sofía Allende Ramírez\",\n",
            "    \"email\": \"sofia.allende.vet@email.com\",\n",
            "    \"telefono\": \"+56 9 8765 4321\",\n",
            "    \"ciudad_pais\": \"Valdivia, Chile\"\n",
            "  },\n",
            "  \"resumen\": \"Veterinaria con 12 años de experiencia dedicada al cuidado de animales de compañía y grandes. Especializada en medicina interna y procedimientos de emergencia, con un fuerte enfoque en el bienestar animal y la educación de los dueños. Busco unirme a un equipo comprometido en la región de Valdivia, donde pueda aportar mi experiencia en clínicas y mi pasión por el trato directo con los animales.\",\n",
            "  \"experiencia_laboral\": [\n",
            "    {\n",
            "      \"empresa_o_proyecto\": \"Clínica Veterinaria El Roble\",\n",
            "      \"cargo\": \"Jefa de Clínica\",\n",
            "      \"periodo\": \"2018 - Presente\",\n",
            "      \"descripcion\": \"Lideré un equipo de 5 veterinarios y 3 técnicos, supervisando las operaciones diarias, el diagnóstico de casos complejos y la planificación de tratamientos. Implementé un programa de vacunación que aumentó la tasa de retención de clientes en un 25% anual.\"\n",
            "    },\n",
            "    {\n",
            "      \"empresa_o_proyecto\": \"Hospital Veterinario Metropolitano\",\n",
            "      \"cargo\": \"Veterinaria de Urgencias\",\n",
            "      \"periodo\": \"2014 - 2018\",\n",
            "      \"descripcion\": \"Trabajé en el turno de urgencias, atendiendo casos críticos y traumas. Colaboré en la estandarización de protocolos de atención y fui responsable del cuidado postoperatorio de pacientes en estado grave.\"\n",
            "    },\n",
            "    {\n",
            "      \"empresa_o_proyecto\": \"Granja Educativa Campo Verde\",\n",
            "      \"cargo\": \"Veterinaria Residente\",\n",
            "      \"periodo\": \"2012 - 2014\",\n",
            "      \"descripcion\": \"Responsable del manejo de la salud de animales de granja y silvestres. Realicé chequeos rutinarios, vacunaciones y desparasitaciones, además de educar a los visitantes sobre el cuidado animal.\"\n",
            "    }\n",
            "  ],\n",
            "  \"educacion\": [\n",
            "    {\n",
            "      \"institucion\": \"Universidad de Chile\",\n",
            "      \"titulo\": \"Médico Veterinario\",\n",
            "      \"periodo\": \"2007 - 2012\"\n",
            "    }\n",
            "  ],\n",
            "  \"habilidades\": {\n",
            "    \"tecnicas\": [\n",
            "      \"Medicina interna\",\n",
            "      \"Cirugía menor\",\n",
            "      \"Radiología\",\n",
            "      \"Ecografía\",\n",
            "      \"Manejo de animales grandes\",\n",
            "      \"Farmacología\",\n",
            "      \"Uso de software de gestión de clínicas\"\n",
            "    ],\n",
            "    \"blandas\": [\n",
            "      \"Liderazgo\",\n",
            "      \"Empatía\",\n",
            "      \"Comunicación efectiva\",\n",
            "      \"Resolución de problemas\",\n",
            "      \"Trabajo en equipo\",\n",
            "      \"Adaptabilidad\"\n",
            "    ]\n",
            "  },\n",
            "  \"puntos_clave_sugeridos\": [\n",
            "    \"Proyectos de voluntariado en albergues o rescate animal\",\n",
            "    \"Testimonios de clientes satisfechos\",\n",
            "    \"Cursos o certificaciones adicionales en especialidades (ej: ecografía avanzada)\",\n",
            "    \"Casos de estudio de éxitos clínicos\",\n",
            "    \"Afiliación a asociaciones profesionales\"\n",
            "  ]\n",
            "}\n"
          ]
        }
      ]
    },
    {
      "cell_type": "markdown",
      "source": [
        "Permitir carga de CV por interfaz"
      ],
      "metadata": {
        "id": "O8u4rFK3S3ct"
      }
    },
    {
      "cell_type": "code",
      "source": [
        "import gradio as gr\n",
        "from typing import IO\n",
        "import fitz\n",
        "import json\n",
        "\n",
        "def leer_pdf(ruta_del_archivo):\n",
        "    \"\"\"\n",
        "    Lee un archivo PDF y extrae todo su texto en una sola cadena.\n",
        "    \"\"\"\n",
        "    try:\n",
        "        documento = fitz.open(ruta_del_archivo)\n",
        "        texto_completo = \"\"\n",
        "        for pagina in documento:\n",
        "            texto_completo += pagina.get_text()\n",
        "        return texto_completo\n",
        "    except Exception as e:\n",
        "        print(f\"Error al leer el PDF: {e}\")\n",
        "        return \"\"\n",
        "\n",
        "# Modificamos la función para que retorne la clasificación y el JSON\n",
        "def extraer_y_clasificar_cv(texto_cv: str):\n",
        "    \"\"\"\n",
        "    Función principal que clasifica el CV y extrae los datos con un prompt dinámico.\n",
        "    \"\"\"\n",
        "    # El modelo de incrustaciones clasifica el perfil\n",
        "    perfil_clasificado = clasificar_perfil(texto_cv)\n",
        "    print(f\"Perfil detectado: {perfil_clasificado}\")\n",
        "\n",
        "    if \"Tecnológico\" in perfil_clasificado or \"freelance\" in texto_cv.lower():\n",
        "        instruccion = \"Para la experiencia laboral, si se menciona un proyecto o cliente, usa el nombre del proyecto en lugar del nombre de la empresa. En las habilidades, prioriza los lenguajes de programación, frameworks y herramientas tecnológicas.\"\n",
        "    else:\n",
        "        instruccion = \"Sigue el formato estándar de experiencia laboral, usando el nombre de la empresa en cada puesto.\"\n",
        "\n",
        "    prompt_dinamico = PROMPT_BASE_EXTRACCION.format(perfil_detectado=perfil_clasificado, instruccion_especifica=instruccion)\n",
        "\n",
        "    salida = llm_cv_chain.invoke([\n",
        "        SystemMessage(content=prompt_dinamico),\n",
        "        HumanMessage(content=texto_cv)\n",
        "    ])\n",
        "\n",
        "    return perfil_clasificado, salida\n",
        "\n",
        "def procesar_cv_desde_interfaz(archivo_pdf: IO):\n",
        "    \"\"\"\n",
        "    Función que recibe un archivo PDF desde la interfaz, lo lee y lo procesa.\n",
        "    \"\"\"\n",
        "    if archivo_pdf is None:\n",
        "        return \"Por favor, sube un archivo PDF.\", \"\"  # Retorna dos valores\n",
        "    try:\n",
        "        texto_del_cv = leer_pdf(archivo_pdf.name)\n",
        "\n",
        "        if not texto_del_cv:\n",
        "            return \"El archivo PDF no contiene texto extraíble.\", \"\" # Retorna dos valores\n",
        "\n",
        "        # Llamas a la función principal que ahora devuelve dos valores\n",
        "        perfil_detectado, datos_extraidos = extraer_y_clasificar_cv(texto_del_cv)\n",
        "\n",
        "        # Retornamos los dos valores esperados por Gradio\n",
        "        return perfil_detectado, datos_extraidos.model_dump_json(indent=2)\n",
        "    except Exception as e:\n",
        "        return f\"Ocurrió un error al procesar el archivo: {e}\", \"\"\n",
        "\n",
        "# Creamos la interfaz de Gradio con múltiples salidas\n",
        "interfaz = gr.Interface(\n",
        "    fn=procesar_cv_desde_interfaz,\n",
        "    inputs=gr.File(type=\"filepath\", label=\"Sube tu CV en formato PDF\"),\n",
        "    outputs=[\n",
        "        gr.Textbox(label=\"Clasificación del perfil\"),\n",
        "        gr.Json(label=\"Datos del CV extraídos\")\n",
        "    ],\n",
        "    title=\"Asistente para Creación de Portafolios\",\n",
        "    description=\"Sube tu currículum vitae en PDF y obtén los datos estructurados en formato JSON.\"\n",
        ")\n",
        "\n",
        "# Lanzamos la interfaz.\n",
        "interfaz.launch(share=True)"
      ],
      "metadata": {
        "colab": {
          "base_uri": "https://localhost:8080/",
          "height": 611
        },
        "id": "DxP8p24qTItY",
        "outputId": "a25defd6-37a2-4a9e-af40-27d018dc7abc"
      },
      "execution_count": 12,
      "outputs": [
        {
          "output_type": "stream",
          "name": "stdout",
          "text": [
            "Colab notebook detected. To show errors in colab notebook, set debug=True in launch()\n",
            "* Running on public URL: https://9346a074c4388cb7ba.gradio.live\n",
            "\n",
            "This share link expires in 1 week. For free permanent hosting and GPU upgrades, run `gradio deploy` from the terminal in the working directory to deploy to Hugging Face Spaces (https://huggingface.co/spaces)\n"
          ]
        },
        {
          "output_type": "display_data",
          "data": {
            "text/plain": [
              "<IPython.core.display.HTML object>"
            ],
            "text/html": [
              "<div><iframe src=\"https://9346a074c4388cb7ba.gradio.live\" width=\"100%\" height=\"500\" allow=\"autoplay; camera; microphone; clipboard-read; clipboard-write;\" frameborder=\"0\" allowfullscreen></iframe></div>"
            ]
          },
          "metadata": {}
        },
        {
          "output_type": "execute_result",
          "data": {
            "text/plain": []
          },
          "metadata": {},
          "execution_count": 12
        }
      ]
    },
    {
      "cell_type": "markdown",
      "source": [
        "Segunda parte"
      ],
      "metadata": {
        "id": "yruawwUAKbpV"
      }
    },
    {
      "cell_type": "code",
      "source": [],
      "metadata": {
        "id": "tjPp9bPTKPNd"
      },
      "execution_count": 12,
      "outputs": []
    }
  ]
}