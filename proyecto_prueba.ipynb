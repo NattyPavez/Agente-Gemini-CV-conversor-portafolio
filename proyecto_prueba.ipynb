{
  "nbformat": 4,
  "nbformat_minor": 0,
  "metadata": {
    "colab": {
      "provenance": [],
      "authorship_tag": "ABX9TyN7r/3jxwyul3unwDY2urov",
      "include_colab_link": true
    },
    "kernelspec": {
      "name": "python3",
      "display_name": "Python 3"
    },
    "language_info": {
      "name": "python"
    }
  },
  "cells": [
    {
      "cell_type": "markdown",
      "metadata": {
        "id": "view-in-github",
        "colab_type": "text"
      },
      "source": [
        "<a href=\"https://colab.research.google.com/github/NattyPavez/Agente-Gemini-CV-conversor-portafolio/blob/main/proyecto_prueba.ipynb\" target=\"_parent\"><img src=\"https://colab.research.google.com/assets/colab-badge.svg\" alt=\"Open In Colab\"/></a>"
      ]
    },
    {
      "cell_type": "markdown",
      "source": [
        "Proyecto paralelo a curso Inmersión AI de Alura con Google Gemini"
      ],
      "metadata": {
        "id": "mpMhV3XLWKjB"
      }
    },
    {
      "cell_type": "markdown",
      "source": [
        "Primera parte"
      ],
      "metadata": {
        "id": "PdDfxFtoKmbG"
      }
    },
    {
      "cell_type": "markdown",
      "source": [
        "Librerías utilizadas"
      ],
      "metadata": {
        "id": "gYdSBaKgVHzG"
      }
    },
    {
      "cell_type": "code",
      "execution_count": null,
      "metadata": {
        "id": "CL2PvIdLFnY2"
      },
      "outputs": [],
      "source": [
        "!pip install -q langchain-google-genai google-generativeai"
      ]
    },
    {
      "cell_type": "code",
      "source": [
        "!pip install email-validator"
      ],
      "metadata": {
        "colab": {
          "base_uri": "https://localhost:8080/"
        },
        "id": "fSbjF3aDh7at",
        "outputId": "5b72000f-e673-48bd-f735-7b1a1553075d"
      },
      "execution_count": null,
      "outputs": [
        {
          "output_type": "stream",
          "name": "stdout",
          "text": [
            "Requirement already satisfied: email-validator in /usr/local/lib/python3.12/dist-packages (2.3.0)\n",
            "Requirement already satisfied: dnspython>=2.0.0 in /usr/local/lib/python3.12/dist-packages (from email-validator) (2.8.0)\n",
            "Requirement already satisfied: idna>=2.0.0 in /usr/local/lib/python3.12/dist-packages (from email-validator) (3.10)\n"
          ]
        }
      ]
    },
    {
      "cell_type": "code",
      "source": [
        "#permite leer PDF\n",
        "!pip install pymupdf"
      ],
      "metadata": {
        "colab": {
          "base_uri": "https://localhost:8080/"
        },
        "id": "CwxdaGzXuy9Q",
        "outputId": "bf9734e2-2cb9-44ea-a6cf-d6b02d180f5b"
      },
      "execution_count": null,
      "outputs": [
        {
          "output_type": "stream",
          "name": "stdout",
          "text": [
            "Requirement already satisfied: pymupdf in /usr/local/lib/python3.12/dist-packages (1.26.4)\n"
          ]
        }
      ]
    },
    {
      "cell_type": "code",
      "source": [
        "# permite crear una interfaz simple con muy pocas líneas de código\n",
        "!pip install -q gradio"
      ],
      "metadata": {
        "id": "6CO512mGRw8y"
      },
      "execution_count": null,
      "outputs": []
    },
    {
      "cell_type": "markdown",
      "source": [
        "Importación api key de AIStudio"
      ],
      "metadata": {
        "id": "PKRCJ7ouWFkI"
      }
    },
    {
      "cell_type": "code",
      "source": [
        "from google.colab import userdata\n",
        "from langchain_google_genai import ChatGoogleGenerativeAI\n",
        "\n",
        "GOOGLE_API_KEY = userdata.get('personal_gemini_api_key')"
      ],
      "metadata": {
        "id": "24R3KhjHKEYR"
      },
      "execution_count": null,
      "outputs": []
    },
    {
      "cell_type": "code",
      "source": [
        "llm = ChatGoogleGenerativeAI(\n",
        "    model=\"gemini-2.5-flash\",\n",
        "    temperature=0,\n",
        "    api_key=GOOGLE_API_KEY\n",
        ")"
      ],
      "metadata": {
        "id": "i79uhqw4V97B"
      },
      "execution_count": null,
      "outputs": []
    },
    {
      "cell_type": "code",
      "source": [
        "# Importa la clase de incrustaciones\n",
        "from langchain_google_genai import GoogleGenerativeAIEmbeddings\n",
        "from google.colab import userdata\n",
        "\n",
        "#  modelo de incrustaciones para la clasificación de perfiles\n",
        "embeddings_model = GoogleGenerativeAIEmbeddings(\n",
        "    model=\"models/embedding-001\",\n",
        "    google_api_key=GOOGLE_API_KEY\n",
        "    )"
      ],
      "metadata": {
        "id": "2g3ITlXQl5i7"
      },
      "execution_count": null,
      "outputs": []
    },
    {
      "cell_type": "markdown",
      "source": [
        "### Asistente de recuperacion de datos de Curriculum Vitae para generar portafolio profesional"
      ],
      "metadata": {
        "id": "GmrIA6CxUiTw"
      }
    },
    {
      "cell_type": "code",
      "source": [
        "from pydantic import BaseModel, Field, EmailStr\n",
        "from typing import List, Optional\n",
        "\n",
        "class Habilidades(BaseModel):\n",
        "    tecnicas: List[str] = Field(default_factory=list)\n",
        "    blandas: List[str] = Field(default_factory=list)\n",
        "\n",
        "class ExperienciaLaboral(BaseModel):\n",
        "    empresa_o_proyecto: str\n",
        "    cargo: str\n",
        "    periodo: str\n",
        "    descripcion: str\n",
        "\n",
        "class Educacion(BaseModel):\n",
        "    institucion: str\n",
        "    titulo: str\n",
        "    periodo: str\n",
        "\n",
        "class Perfil(BaseModel):\n",
        "    nombre: str\n",
        "    email: EmailStr\n",
        "    telefono: Optional[str] = None\n",
        "    ciudad_pais: str\n",
        "\n",
        "class CurriculumVitae(BaseModel):\n",
        "    perfil: Perfil\n",
        "    resumen: str\n",
        "    experiencia_laboral: List[ExperienciaLaboral] = Field(default_factory=list)\n",
        "    educacion: List[Educacion] = Field(default_factory=list)\n",
        "    habilidades: Habilidades\n",
        "    puntos_clave_sugeridos: List[str] = Field(default_factory=list)\n",
        "\n"
      ],
      "metadata": {
        "id": "RhIS6UQuLPKW"
      },
      "execution_count": null,
      "outputs": []
    },
    {
      "cell_type": "code",
      "source": [
        "PROMPT_BASE_EXTRACCION = \"\"\"Eres un asistente experto en análisis de currículums. Tu tarea es extraer la información clave de un currículum vitae y estructurarla en un objeto JSON.\n",
        "\n",
        "La información que debes extraer es:\n",
        "1. **Información personal**: Nombre completo, email, teléfono, ciudad y país.\n",
        "2. **Resumen profesional**: Un breve resumen que destaque las principales habilidades y experiencia.\n",
        "3. **Experiencia laboral**: Para cada puesto, extrae el nombre de la empresa, cargo, período (ej: \"2018 - 2022\") y una descripción breve de las responsabilidades y logros clave.\n",
        "4. **Educación**: Para cada título, extrae el nombre de la institución, el título obtenido y el período (ej: \"2015 - 2018\").\n",
        "5. **Habilidades**: Lista de habilidades técnicas (ej: \"Python\", \"SQL\", \"Git\") y habilidades blandas (ej: \"Liderazgo\", \"Comunicación\").\n",
        "\n",
        "Después de extraer la información, evalúa la profesión del currículum y sugiere qué información adicional sería valiosa para destacar en un portafolio web. Estas sugerencias deben basarse en estándares de la industria para esa profesión. Devuelve esta sugerencia en un campo llamado \"puntos_clave_sugeridos\".\n",
        "\n",
        "Si el perfil detectado es '{perfil_detectado}', asegúrate de adaptar la extracción de la siguiente manera:\n",
        "{instruccion_especifica}\n",
        "\"\"\""
      ],
      "metadata": {
        "id": "QynU-bN2aJsz"
      },
      "execution_count": null,
      "outputs": []
    },
    {
      "cell_type": "markdown",
      "source": [
        "Clasificación de perfiles utilizando Emmbeddins"
      ],
      "metadata": {
        "id": "945e6QTotow0"
      }
    },
    {
      "cell_type": "code",
      "source": [
        "from sklearn.metrics.pairwise import cosine_similarity\n",
        "import numpy as np\n",
        "from typing import Dict\n",
        "from langchain_core.messages import SystemMessage, HumanMessage\n",
        "\n",
        "# Perfiles de referencia\n",
        "perfiles_referencia = {\n",
        "    \"Perfil Administrativo / Asistente\": \"Profesional con experiencia en gestión de agendas, coordinación de equipos y atención al cliente. Destacada capacidad organizativa, manejo de herramientas ofimáticas (Excel, Word, Power Point) y optimización de procesos administrativos.\",\n",
        "    \"Perfil Comercial / Ventas\": \"Ejecutivo de ventas con trayectoria en el cumplimiento de metas comerciales, negociación, cierre de tratos y fidelización de clientes. Orientado a resultados y con fuerte habilidad para generar nuevas oportunidades de negocio, prospección y gestión de cartera.\",\n",
        "    \"Perfil Tecnológico / TI\": \"Desarrollador de software con experiencia en lenguajes de programación como Java, Python, JavaScript. Manejo de frameworks como Spring Boot, Django, o React. Experto en bases de datos SQL y NoSQL, desarrollo de APIs y metodologías ágiles (Scrum, Kanban).\",\n",
        "    \"Perfil Marketing / Comunicación\": \"Especialista en marketing digital con dominio de campañas en redes sociales (Facebook Ads, Google Ads), SEO, SEM y analítica web. Capacidad para crear estrategias de contenido que aumentan la visibilidad y el engagement de marcas, email marketing y relaciones públicas.\",\n",
        "    \"Perfil Financiero / Contabilidad\": \"Contador auditor con sólida experiencia en análisis financiero, control de gastos, auditoría, planificación tributaria y cumplimiento normativo. Fuerte orientación a la precisión, la eficiencia en procesos contables y la elaboración de reportes financieros.\",\n",
        "    \"Perfil de Salud\": \"Profesional de la salud con experiencia en atención clínica, diagnóstico, tratamiento y enfoque en la calidad del servicio al paciente. Capacitado en protocolos de emergencia, prevención de enfermedades, promoción de la salud y educación a la comunidad.\",\n",
        "    \"Perfil de Recursos Humanos\": \"Especialista en gestión de talento, con experiencia en reclutamiento y selección, capacitación, evaluación de desempeño y clima organizacional. Enfocado en potenciar equipos de alto desempeño y en la aplicación de políticas de bienestar laboral.\",\n",
        "    \"Perfil de Educación / Docencia\": \"Docente con experiencia en la enseñanza de asignaturas como [ej: matemáticas, historia] en [ej: nivel escolar o universitario]. Capaz de diseñar planes pedagógicos efectivos, aplicar metodologías innovadoras y adaptarse a distintos estilos de aprendizaje. Enfocado en la motivación y el desarrollo integral de los estudiantes.\",\n",
        "    \"Perfil de Logística / Operaciones\": \"Profesional en logística con trayectoria en gestión de inventarios, control de bodegas, cadena de suministro y optimización de procesos de distribución. Orientado a la eficiencia operativa, reducción de costos, cumplimiento de tiempos de entrega y manejo de sistemas ERP.\",\n",
        "    \"Perfil de Atención al Cliente / Servicios\": \"Especialista en atención al cliente con experiencia en resolución de problemas, manejo de reclamos y generación de experiencias positivas. Destacado por la empatía, comunicación efectiva, orientación a la satisfacción del usuario y manejo de sistemas CRM.\"\n",
        "}\n",
        "\n",
        "# incrustaciones una sola vez al inicio del programa\n",
        "vectores_referencia = {\n",
        "    perfil: embeddings_model.embed_query(texto)\n",
        "    for perfil, texto in perfiles_referencia.items()\n",
        "}\n",
        "\n",
        "def clasificar_perfil(texto_cv: str) -> str:\n",
        "    \"\"\"Clasifica el perfil de un CV comparando su incrustación con perfiles de referencia.\"\"\"\n",
        "    if not texto_cv:\n",
        "        return \"Perfil no definido\"\n",
        "    try:\n",
        "        vector_cv = embeddings_model.embed_query(texto_cv)\n",
        "        mejor_coincidencia = \"No se pudo clasificar\"\n",
        "        mayor_similitud = -1\n",
        "        for perfil, vector_ref in vectores_referencia.items():\n",
        "            similitud = cosine_similarity(np.array(vector_cv).reshape(1, -1), np.array(vector_ref).reshape(1, -1))[0][0]\n",
        "            if similitud > mayor_similitud:\n",
        "                mayor_similitud = similitud\n",
        "                mejor_coincidencia = perfil\n",
        "        print(f\"El sistema ha clasificado este perfil como: {mejor_coincidencia} (Similitud: {mayor_similitud:.2f})\")\n",
        "        return mejor_coincidencia\n",
        "    except Exception as e:\n",
        "        print(f\"Ocurrió un error en la clasificación: {e}\")\n",
        "        return \"Error en la clasificación\"\n",
        "\n",
        "llm_cv_chain = llm.with_structured_output(CurriculumVitae)\n",
        "\n",
        "def extraer_y_clasificar_cv(texto_cv: str):\n",
        "    \"\"\"\n",
        "    Función principal que clasifica el CV y extrae los datos con un prompt dinámico.\n",
        "    \"\"\"\n",
        "    perfil_clasificado = clasificar_perfil(texto_cv)\n",
        "    print(f\"Perfil detectado: {perfil_clasificado}\")\n",
        "\n",
        "    if \"Tecnológico\" in perfil_clasificado or \"freelance\" in texto_cv.lower():\n",
        "        instruccion = \"Para la experiencia laboral, si se menciona un proyecto o cliente, usa el nombre del proyecto en lugar del nombre de la empresa. En las habilidades, prioriza los lenguajes de programación, frameworks y herramientas tecnológicas.\"\n",
        "    else:\n",
        "        instruccion = \"Sigue el formato estándar de experiencia laboral, usando el nombre de la empresa en cada puesto.\"\n",
        "\n",
        "    prompt_dinamico = PROMPT_BASE_EXTRACCION.format(perfil_detectado=perfil_clasificado, instruccion_especifica=instruccion)\n",
        "\n",
        "    salida = llm_cv_chain.invoke([\n",
        "        SystemMessage(content=prompt_dinamico),\n",
        "        HumanMessage(content=texto_cv)\n",
        "    ])\n",
        "\n",
        "    return salida"
      ],
      "metadata": {
        "collapsed": true,
        "id": "L1458SVztoLE"
      },
      "execution_count": null,
      "outputs": []
    },
    {
      "cell_type": "markdown",
      "source": [
        "Permitir carga de CV por interfaz"
      ],
      "metadata": {
        "id": "O8u4rFK3S3ct"
      }
    },
    {
      "cell_type": "code",
      "source": [
        "import gradio as gr\n",
        "from typing import IO\n",
        "import fitz\n",
        "import json\n",
        "\n",
        "def leer_pdf(ruta_del_archivo):\n",
        "    \"\"\"\n",
        "    Lee un archivo PDF y extrae todo su texto en una sola cadena.\n",
        "    \"\"\"\n",
        "    try:\n",
        "        documento = fitz.open(ruta_del_archivo)\n",
        "        texto_completo = \"\"\n",
        "        for pagina in documento:\n",
        "            texto_completo += pagina.get_text()\n",
        "        return texto_completo\n",
        "    except Exception as e:\n",
        "        print(f\"Error al leer el PDF: {e}\")\n",
        "        return \"\"\n",
        "\n",
        "# Modificamos la función para que retorne la clasificación y el JSON\n",
        "def extraer_y_clasificar_cv(texto_cv: str):\n",
        "    perfil_clasificado = clasificar_perfil(texto_cv)\n",
        "    print(f\"Perfil detectado: {perfil_clasificado}\")\n",
        "\n",
        "    if \"Tecnológico\" in perfil_clasificado or \"freelance\" in texto_cv.lower():\n",
        "        instruccion = \"Para la experiencia laboral, si se menciona un proyecto o cliente, usa el nombre del proyecto en lugar del nombre de la empresa. En las habilidades, prioriza los lenguajes de programación, frameworks y herramientas tecnológicas.\"\n",
        "    else:\n",
        "        instruccion = \"Sigue el formato estándar de experiencia laboral, usando el nombre de la empresa en cada puesto.\"\n",
        "\n",
        "    prompt_dinamico = PROMPT_BASE_EXTRACCION.format(\n",
        "        perfil_detectado=perfil_clasificado,\n",
        "        instruccion_especifica=instruccion\n",
        "    )\n",
        "\n",
        "    salida = llm_cv_chain.invoke([\n",
        "        SystemMessage(content=prompt_dinamico),\n",
        "        HumanMessage(content=texto_cv)\n",
        "    ])\n",
        "\n",
        "    # Convertir a objeto CurriculumVitae válido\n",
        "    if isinstance(salida, dict):\n",
        "        datos_cv = CurriculumVitae.model_validate(salida)\n",
        "    else:\n",
        "        datos_cv = salida  # ya es un CurriculumVitae\n",
        "\n",
        "    return perfil_clasificado, datos_cv\n",
        "\n",
        "\n",
        "def procesar_cv_desde_interfaz(archivo_pdf: IO):\n",
        "    \"\"\"\n",
        "    Función que recibe un archivo PDF desde la interfaz, lo lee y lo procesa.\n",
        "    \"\"\"\n",
        "    if archivo_pdf is None:\n",
        "        return \"Por favor, sube un archivo PDF.\", \"\"  # Retorna dos valores\n",
        "    try:\n",
        "        texto_del_cv = leer_pdf(archivo_pdf.name)\n",
        "\n",
        "        if not texto_del_cv:\n",
        "            return \"El archivo PDF no contiene texto extraíble.\", \"\" # Retorna dos valores\n",
        "\n",
        "        # Llamas a la función principal que ahora devuelve dos valores\n",
        "        perfil_detectado, datos_extraidos = extraer_y_clasificar_cv(texto_del_cv)\n",
        "\n",
        "        # Retornamos los dos valores esperados por Gradio\n",
        "        return perfil_detectado, datos_extraidos.model_dump_json(indent=2)\n",
        "    except Exception as e:\n",
        "        return f\"Ocurrió un error al procesar el archivo: {e}\", \"\"\n",
        "\n",
        "# Creamos la interfaz de Gradio con múltiples salidas\n",
        "interfaz = gr.Interface(\n",
        "    fn=procesar_cv_desde_interfaz,\n",
        "    inputs=gr.File(type=\"filepath\", label=\"Sube tu CV en formato PDF\"),\n",
        "    outputs=[\n",
        "        gr.Textbox(label=\"Clasificación del perfil\"),\n",
        "        gr.Json(label=\"Datos del CV extraídos\")\n",
        "    ],\n",
        "    title=\"Asistente para Creación de Portafolios\",\n",
        "    description=\"Sube tu currículum vitae en PDF y obtén los datos estructurados en formato JSON.\"\n",
        ")\n",
        "\n",
        "# Lanzamos la interfaz.\n",
        "interfaz.launch(share=True)"
      ],
      "metadata": {
        "id": "DxP8p24qTItY",
        "colab": {
          "base_uri": "https://localhost:8080/",
          "height": 611
        },
        "outputId": "ea91220d-ec11-4f77-9c5b-227c17848ad6"
      },
      "execution_count": null,
      "outputs": [
        {
          "output_type": "stream",
          "name": "stdout",
          "text": [
            "Colab notebook detected. To show errors in colab notebook, set debug=True in launch()\n",
            "* Running on public URL: https://2ee5d8f4fc8970850b.gradio.live\n",
            "\n",
            "This share link expires in 1 week. For free permanent hosting and GPU upgrades, run `gradio deploy` from the terminal in the working directory to deploy to Hugging Face Spaces (https://huggingface.co/spaces)\n"
          ]
        },
        {
          "output_type": "display_data",
          "data": {
            "text/plain": [
              "<IPython.core.display.HTML object>"
            ],
            "text/html": [
              "<div><iframe src=\"https://2ee5d8f4fc8970850b.gradio.live\" width=\"100%\" height=\"500\" allow=\"autoplay; camera; microphone; clipboard-read; clipboard-write;\" frameborder=\"0\" allowfullscreen></iframe></div>"
            ]
          },
          "metadata": {}
        },
        {
          "output_type": "execute_result",
          "data": {
            "text/plain": []
          },
          "metadata": {},
          "execution_count": 45
        }
      ]
    },
    {
      "cell_type": "markdown",
      "source": [
        "Segunda parte"
      ],
      "metadata": {
        "id": "yruawwUAKbpV"
      }
    },
    {
      "cell_type": "code",
      "source": [
        "# Prompt mejorado para generación de HTML editable\n",
        "PROMPT_GENERADOR_HTML_EDITABLE = \"\"\"\n",
        "Eres un diseñador y desarrollador frontend senior con excelente criterio UX/UI.\n",
        "Tu tarea es generar un ÚNICO archivo HTML autocontenido (<!doctype html> …) que sirva como **portafolio personal editable**.\n",
        "\n",
        "🚨 INSTRUCCIONES TÉCNICAS:\n",
        "- Devuelve SOLO el código HTML completo, sin explicaciones fuera del <html>.\n",
        "- El HTML debe ser semántico y accesible (usar <header>, <nav>, <main>, <section>, <footer>).\n",
        "- Incluye en el <head>:\n",
        "  - <meta name=\"viewport\" content=\"width=device-width, initial-scale=1.0\">\n",
        "  - Google Fonts (ej: Inter, Lato, o Roboto).\n",
        "  - <style> con todas las variables CSS para colores, tipografía y espaciados (no uses archivos externos).\n",
        "- Incrusta el JSON original EXACTAMENTE como:\n",
        "  <script type=\"application/json\" id=\"cv-data\">{datos_cv_json}</script>\n",
        "- Marca elementos editables con:\n",
        "  - data-editable=\"true\"\n",
        "  - data-field=\"ruta.en.el.json\"  (ej: data-field=\"perfil.nombre\")\n",
        "\n",
        "🎨 ESTILO Y PALETA SEGÚN PERFIL:\n",
        "- Perfil Tecnológico/TI → tema oscuro, acentos azules/cian, tipografía monoespaciada para títulos de proyectos.\n",
        "- Perfil Salud/Educación → tema claro, verdes/azules suaves, tipografía clara, enfoque humano.\n",
        "- Perfil Marketing/Comercial → colores vibrantes (naranja, rojo, púrpura), secciones dinámicas con métricas.\n",
        "- Perfil Financiero/Administrativo → diseño sobrio, paleta azul marino/gris/blanco, tipografía seria.\n",
        "- Otros perfiles → paleta neutra (gris claro/fondo blanco, texto oscuro).\n",
        "- Siempre mobile-first y accesible (contraste adecuado, botones grandes, aria-labels).\n",
        "\n",
        "📌 ESTRUCTURA DEL PORTAFOLIO:\n",
        "HEADER (sticky/top):\n",
        "- Siempre visible, con nombre + botones de navegación (Perfil, Sobre mí, Experiencia, Contacto).\n",
        "- Toggle idioma (ES/EN).\n",
        "- Scroll suave al hacer clic en botones.\n",
        "\n",
        "1) PERFIL:\n",
        "- Foto circular (placeholder si no hay), nombre grande, ciudad/país, breve presentación (2-3 líneas).\n",
        "- data-fields por cada dato.\n",
        "\n",
        "2) SOBRE MÍ:\n",
        "- Resumen profesional redactado a partir del JSON.\n",
        "- Bloques con EDUCACIÓN, HABILIDADES TÉCNICAS y HABILIDADES BLANDAS.\n",
        "- IA puede enriquecer el texto si faltan datos → redactar de forma profesional.\n",
        "\n",
        "3) EXPERIENCIA / PROYECTOS:\n",
        "- Grid responsive (3 columnas en desktop, 1 en móvil).\n",
        "- Cada tarjeta con:\n",
        "  - Imagen (placeholder si no hay)\n",
        "  - Cargo, empresa/proyecto, periodo\n",
        "  - Breve descripción\n",
        "  - Enlaces opcionales (GitHub, demo, etc.)\n",
        "- Renderizar hasta 5 experiencias visibles; si faltan datos, mostrar placeholders claros (“Agregar experiencia”).\n",
        "\n",
        "4) CONTACTO:\n",
        "- Email (con botón “copiar”).\n",
        "- Redes sociales: GitHub, LinkedIn, Twitter, web personal (si faltan → placeholders).\n",
        "- Formulario simple (nombre, email, mensaje).\n",
        "\n",
        "FOOTER:\n",
        "- Texto de derechos reservados.\n",
        "- “Creado con IA y HTML” + link al repositorio o placeholder.\n",
        "- Mantener diseño consistente.\n",
        "\n",
        "⚡️ FUNCIONALIDAD EXTRA:\n",
        "- Toolbar flotante con botones:\n",
        "  - Editar (activa/desactiva contentEditable en elementos con data-editable).\n",
        "  - Descargar HTML.\n",
        "  - Descargar JSON (#cv-data).\n",
        "  - Cambiar idioma ES/EN.\n",
        "- Scroll suave en navegación interna.\n",
        "- Sombras sutiles en tarjetas, hover animado.\n",
        "\n",
        "⚠️ MUY IMPORTANTE:\n",
        "- Si faltan datos en el JSON, coloca placeholders claros (“Agregar foto”, “Agregar descripción”).\n",
        "- Ocupa bien el espacio en cualquier dispositivo (layout responsivo).\n",
        "- Fondo oscuro + texto claro por defecto, salvo perfiles Salud/Educación (fondo claro).\n",
        "- Devuelve SOLO el HTML válido, nada más.\n",
        "\n",
        "JSON que debes usar para poblar el contenido:\n",
        "{datos_cv_json}\n",
        "\n",
        "Perfil detectado (adapta la paleta y estilo según este): {perfil_detectado}\n",
        "\"\"\"\n"
      ],
      "metadata": {
        "id": "kQg90UjAkVn4"
      },
      "execution_count": null,
      "outputs": []
    },
    {
      "cell_type": "code",
      "source": [
        "# Función que llama a Gemini y devuelve HTML editable\n",
        "from langchain_core.messages import SystemMessage, HumanMessage\n",
        "import json\n",
        "import html as html_lib\n",
        "\n",
        "def _strip_code_fences(text: str) -> str:\n",
        "    if not text:\n",
        "        return \"\"\n",
        "    t = text.strip()\n",
        "    if t.startswith(\"```\"):\n",
        "        # quitar fence de apertura\n",
        "        # soporte para ```html o ```\n",
        "        parts = t.split(\"\\n\")\n",
        "        # si la primera linea es fence, lo quitamos\n",
        "        if parts and parts[0].startswith(\"```\"):\n",
        "            parts = parts[1:]\n",
        "        # si la última linea es ```\n",
        "        if parts and parts[-1].strip().startswith(\"```\"):\n",
        "            parts = parts[:-1]\n",
        "        t = \"\\n\".join(parts)\n",
        "    return t.strip()\n",
        "\n",
        "def generar_portfolio_html_editable(datos_cv, perfil_clasificado: str) -> str:\n",
        "    \"\"\"\n",
        "    Genera HTML editable a partir de datos_cv (puede ser Pydantic model o dict)\n",
        "    Usa PROMPT_GENERADOR_HTML_EDITABLE y llm_generador (o llm como fallback).\n",
        "    \"\"\"\n",
        "    # convierte a dict si el input es Pydantic\n",
        "    if hasattr(datos_cv, \"model_dump\"):\n",
        "        datos_cv_dict = datos_cv.model_dump()\n",
        "    elif isinstance(datos_cv, dict):\n",
        "        datos_cv_dict = datos_cv\n",
        "    else:\n",
        "        # si vino como string JSON\n",
        "        try:\n",
        "            datos_cv_dict = json.loads(datos_cv)\n",
        "        except Exception:\n",
        "            datos_cv_dict = {}\n",
        "\n",
        "    datos_cv_json_str = json.dumps(datos_cv_dict, ensure_ascii=False, indent=2)\n",
        "\n",
        "    prompt_final = PROMPT_GENERADOR_HTML_EDITABLE.format(\n",
        "        datos_cv_json=datos_cv_json_str,\n",
        "        perfil_detectado=perfil_clasificado\n",
        "    )\n",
        "\n",
        "    # eligir cliente LLM: primero llm_generador (Jules), luego llm (tu inicial)\n",
        "    model_client = globals().get(\"llm_generador\") or globals().get(\"llm\")\n",
        "    if model_client is None:\n",
        "        raise RuntimeError(\"No se encontró `llm_generador` ni `llm`. Define tu cliente Gemini antes de ejecutar esta celda.\")\n",
        "\n",
        "    try:\n",
        "        print(\"Invocando al modelo generador (HTML editable)...\")\n",
        "        response = model_client.invoke([\n",
        "            SystemMessage(content=\"Eres un experto en diseño web y accesibilidad. Responde ÚNICAMENTE con el HTML solicitado.\"),\n",
        "            HumanMessage(content=prompt_final)\n",
        "        ])\n",
        "       # Extraer texto de la respuesta (varios SDKs usan .content o .text)\n",
        "        html_raw = \"\"\n",
        "        if hasattr(response, \"content\"):\n",
        "            html_raw = response.content\n",
        "        elif hasattr(response, \"text\"):\n",
        "            html_raw = response.text\n",
        "        else:\n",
        "            html_raw = str(response)\n",
        "\n",
        "        html_raw = _strip_code_fences(html_raw)\n",
        "\n",
        "    # Asegurar que el JSON original esté embebido como <script id=\"cv-data\"> ... </script>\n",
        "        if '<script type=\"application/json\" id=\"cv-data\">' not in html_raw:\n",
        "            injection = f'\\n<script type=\"application/json\" id=\"cv-data\">{html_lib.escape(datos_cv_json_str)}</script>\\n'\n",
        "            lower = html_raw.lower()\n",
        "            if \"<body\" in lower:\n",
        "                idx = lower.find(\"<body\")\n",
        "                insert_at = html_raw.find(\">\", idx) + 1\n",
        "                html_raw = html_raw[:insert_at] + injection + html_raw[insert_at:]\n",
        "            else:\n",
        "                # si no hay body, envolver todo\n",
        "                html_raw = \"<!doctype html>\\n<html lang='es'>\\n<head><meta charset='utf-8'></head>\\n<body>\" + injection + html_raw + \"</body></html>\"\n",
        "\n",
        "        # Devolver HTML final (listo para guardar)\n",
        "        print(\"HTML editable generado correctamente.\")\n",
        "        return html_raw\n",
        "\n",
        "    except Exception as e:\n",
        "        print(f\"Error durante la generación del HTML: {e}\")\n",
        "        return f\"<html><body><h1>Error al generar el portafolio</h1><p>{e}</p></body></html>\""
      ],
      "metadata": {
        "id": "-obQE0SgkatX"
      },
      "execution_count": null,
      "outputs": []
    },
    {
      "cell_type": "code",
      "source": [
        "# Inserta una toolbar editable si el HTML no la trae\n",
        "def ensure_editable_toolbar(html: str) -> str:\n",
        "    \"\"\"\n",
        "    Si el HTML ya trae una toolbar con id=\"editable-toolbar\", lo deja tal cual.\n",
        "    Si no, inserta una toolbar ligera (botones: Editar / Descargar HTML / Descargar JSON).\n",
        "    \"\"\"\n",
        "    if html is None:\n",
        "        return html or \"<html><body></body></html>\"\n",
        "\n",
        "    if 'id=\"editable-toolbar\"' in html:\n",
        "        return html  # ya la trae el modelo\n",
        "\n",
        "    toolbar_html = \"\"\"\n",
        "    <!-- EDITABLE_TOOLBAR: Minimal toolbar para edición rápida. El frontend dev puede reemplazarla. -->\n",
        "    <div id=\"editable-toolbar\" style=\"position:fixed;right:12px;top:12px;z-index:2147483647;padding:8px;border-radius:8px;box-shadow:0 2px 8px rgba(0,0,0,0.12);background:rgba(255,255,255,0.95);font-family:Arial,Helvetica,sans-serif;\">\n",
        "      <button onclick=\"(function(){var es=document.querySelectorAll('[data-editable]'); es.forEach(e=>e.contentEditable = e.isContentEditable? 'false':'true'); this.textContent = (this.textContent==='Editar')? 'Salir':'Editar';}).call(this)\">Editar</button>\n",
        "      <button onclick=\"(function(){var a=document.createElement('a'); var html='<!doctype html>'+document.documentElement.outerHTML; a.href='data:text/html;charset=utf-8,'+encodeURIComponent(html); a.download='portafolio_editado.html'; a.click(); })()\">Descargar HTML</button>\n",
        "      <button onclick=\"(function(){var d=document.getElementById('cv-data'); if(!d) return alert('No hay JSON embebido'); var a=document.createElement('a'); a.href='data:application/json;charset=utf-8,'+encodeURIComponent(d.textContent); a.download='cv_datos.json'; a.click(); })()\">Descargar JSON</button>\n",
        "      <div style=\"font-size:11px;color:#333;margin-top:6px;\">(Los elementos editables tienen <code>data-editable=\\\"true\\\"</code>)</div>\n",
        "    </div>\n",
        "    \"\"\"\n",
        "\n",
        "    # insertar después de <body> si existe\n",
        "    lower = html.lower()\n",
        "    if \"<body\" in lower:\n",
        "        idx = lower.find(\"<body\")\n",
        "        insert_at = html.find(\">\", idx) + 1\n",
        "        html = html[:insert_at] + toolbar_html + html[insert_at:]\n",
        "    else:\n",
        "        # si no hay <body>, envolver todo con estructura mínima\n",
        "        html = \"<!doctype html><html><head><meta charset='utf-8'></head><body>\" + toolbar_html + html + \"</body></html>\"\n",
        "\n",
        "    return html\n"
      ],
      "metadata": {
        "id": "NOYJs6EVkhC7"
      },
      "execution_count": null,
      "outputs": []
    },
    {
      "cell_type": "code",
      "source": [
        "# Función que integra el flujo y guarda archivo para descargar\n",
        "import os\n",
        "from IPython.display import HTML, display\n",
        "\n",
        "def procesar_cv_desde_interfaz_v2(archivo_pdf):\n",
        "    \"\"\"\n",
        "    Variante que reutiliza extraer_y_clasificar_cv (tu función original),\n",
        "    y usa el generador editable. Devuelve: perfil_detectado, html_string, path_del_html.\n",
        "    \"\"\"\n",
        "    if archivo_pdf is None:\n",
        "        return \"Por favor, sube un archivo PDF.\", \"<p>No se generó HTML</p>\", None\n",
        "\n",
        "    try:\n",
        "        texto_del_cv = leer_pdf(archivo_pdf.name)  # usa tu función leer_pdf existente\n",
        "        if not texto_del_cv:\n",
        "            return \"El archivo PDF no contiene texto extraíble.\", \"<p>No se generó HTML</p>\", None\n",
        "\n",
        "        # 1) Extraer y clasificar (tu función existente)\n",
        "        perfil_detectado, datos_extraidos = extraer_y_clasificar_cv(texto_del_cv)\n",
        "\n",
        "        # 2) Generar HTML editable\n",
        "        html_portfolio = generar_portfolio_html_editable(datos_extraidos, perfil_detectado)\n",
        "\n",
        "        # 3) Si el LLM no puso toolbar, inyectarlo (fallback)\n",
        "        html_portfolio = ensure_editable_toolbar(html_portfolio)\n",
        "\n",
        "        # 4) Guardar archivo .html para descarga\n",
        "        ruta_html = \"/content/portafolio_editable_generado.html\"\n",
        "        with open(ruta_html, \"w\", encoding=\"utf-8\") as f:\n",
        "            f.write(html_portfolio)\n",
        "\n",
        "        # 5) Retornar perfiles y ruta (Gradio puede usar la ruta en un gr.File)\n",
        "        return perfil_detectado, html_portfolio, ruta_html\n",
        "\n",
        "    except Exception as e:\n",
        "        err = f\"Ocurrió un error al procesar: {e}\"\n",
        "        return err, f\"<html><body><h1>Error</h1><p>{e}</p></body></html>\", None\n",
        "\n",
        "# Opcional: interfaz Gradio separada (no sobrescribe la tuya)\n",
        "import gradio as gr\n",
        "\n",
        "interfaz_editable = gr.Interface(\n",
        "    fn=procesar_cv_desde_interfaz_v2,\n",
        "    inputs=gr.File(type=\"filepath\", label=\"Sube tu CV en formato PDF\"),\n",
        "    outputs=[\n",
        "        gr.Textbox(label=\"Clasificación del Perfil Profesional\"),\n",
        "        gr.HTML(label=\"Portafolio Web Editable (preview)\"),\n",
        "        gr.File(label=\"Descargar HTML editable\")\n",
        "    ],\n",
        "    title=\"Generador de Portafolios Web EDITABLE\",\n",
        "    description=\"Versión que entrega un HTML especialmente marcado para que un frontend lo edite fácilmente.\"\n",
        ")\n",
        "\n",
        "# Para lanzar: interfaz_editable.launch(share=True)\n"
      ],
      "metadata": {
        "id": "AtHzejLNklnd"
      },
      "execution_count": null,
      "outputs": []
    },
    {
      "cell_type": "code",
      "source": [
        "import gradio as gr\n",
        "import os\n",
        "\n",
        "def flujo_cv_a_portafolio(archivo_pdf):\n",
        "    if archivo_pdf is None:\n",
        "        return \"Por favor, sube un archivo PDF.\", \"<p>No se generó HTML</p>\", None, \"{}\", \"<p>No se generó vista</p>\"\n",
        "\n",
        "    try:\n",
        "        # 1) Leer texto desde PDF\n",
        "        texto_del_cv = leer_pdf(archivo_pdf.name)\n",
        "        if not texto_del_cv:\n",
        "            return \"El PDF no contiene texto extraíble.\", \"<p>No se generó HTML</p>\", None, \"{}\", \"<p>No se generó vista</p>\"\n",
        "\n",
        "        # 2) Extraer y clasificar\n",
        "        perfil_detectado, datos_extraidos = extraer_y_clasificar_cv(texto_del_cv)\n",
        "\n",
        "        # 3) Generar HTML editable\n",
        "        html_portfolio = generar_portfolio_html_editable(datos_extraidos, perfil_detectado)\n",
        "        html_portfolio = ensure_editable_toolbar(html_portfolio)\n",
        "\n",
        "        # 4) Guardar archivo para descarga\n",
        "        ruta_html = \"/content/portafolio_editable.html\"\n",
        "        with open(ruta_html, \"w\", encoding=\"utf-8\") as f:\n",
        "            f.write(html_portfolio)\n",
        "\n",
        "        # 5) Crear iframe embebido para mostrar la web activa\n",
        "        iframe_code = f\"\"\"\n",
        "        <iframe src='file://{os.path.abspath(ruta_html)}'\n",
        "                width='100%' height='600'\n",
        "                style='border:1px solid #ccc; border-radius:8px;'>\n",
        "        </iframe>\n",
        "        \"\"\"\n",
        "\n",
        "        # 6) Devolver todo\n",
        "        return (\n",
        "            perfil_detectado,\n",
        "            html_portfolio,\n",
        "            ruta_html,\n",
        "            datos_extraidos.model_dump_json(indent=2),\n",
        "            iframe_code\n",
        "        )\n",
        "    except Exception as e:\n",
        "        return f\"Error: {e}\", \"<p>No se generó HTML</p>\", None, \"{}\", \"<p>No se generó vista</p>\"\n",
        "\n",
        "\n",
        "interfaz_final = gr.Interface(\n",
        "    fn=flujo_cv_a_portafolio,\n",
        "    inputs=gr.File(type=\"filepath\", label=\"Sube tu CV en formato PDF\"),\n",
        "    outputs=[\n",
        "        gr.Textbox(label=\"Clasificación del Perfil Profesional\"),\n",
        "        gr.HTML(label=\"Código HTML generado (editable)\"),\n",
        "        gr.File(label=\"Descargar HTML Editable\"),\n",
        "        gr.Json(label=\"Datos del CV (JSON estructurado)\"),\n",
        "        gr.HTML(label=\"Vista interactiva del Portafolio (con botones activos)\")\n",
        "    ],\n",
        "    title=\"Generador de Portafolios Web EDITABLE\",\n",
        "    description=\"Sube tu CV en PDF y genera automáticamente un portafolio web editable + datos en JSON.\"\n",
        ")\n",
        "\n",
        "interfaz_final.launch(share=True)\n"
      ],
      "metadata": {
        "colab": {
          "base_uri": "https://localhost:8080/",
          "height": 611
        },
        "id": "bOPiqJ8Grgyn",
        "outputId": "e409bd39-c4cf-4557-e17c-57594b689e10"
      },
      "execution_count": null,
      "outputs": [
        {
          "output_type": "stream",
          "name": "stdout",
          "text": [
            "Colab notebook detected. To show errors in colab notebook, set debug=True in launch()\n",
            "* Running on public URL: https://136c6f4658888eacb5.gradio.live\n",
            "\n",
            "This share link expires in 1 week. For free permanent hosting and GPU upgrades, run `gradio deploy` from the terminal in the working directory to deploy to Hugging Face Spaces (https://huggingface.co/spaces)\n"
          ]
        },
        {
          "output_type": "display_data",
          "data": {
            "text/plain": [
              "<IPython.core.display.HTML object>"
            ],
            "text/html": [
              "<div><iframe src=\"https://136c6f4658888eacb5.gradio.live\" width=\"100%\" height=\"500\" allow=\"autoplay; camera; microphone; clipboard-read; clipboard-write;\" frameborder=\"0\" allowfullscreen></iframe></div>"
            ]
          },
          "metadata": {}
        },
        {
          "output_type": "execute_result",
          "data": {
            "text/plain": []
          },
          "metadata": {},
          "execution_count": 50
        }
      ]
    }
  ]
}